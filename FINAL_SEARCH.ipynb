{
  "cells": [
    {
      "cell_type": "markdown",
      "id": "4e2d4561",
      "metadata": {
        "id": "4e2d4561"
      },
      "source": [
        "# FINAL TEST FOR PROJECT"
      ]
    },
    {
      "cell_type": "code",
      "execution_count": null,
      "id": "3c2dcbc2",
      "metadata": {
        "id": "3c2dcbc2"
      },
      "outputs": [],
      "source": [
        "my_pwd = \"*\"\n",
        "import pymongo # for MongoDB\n",
        "import psycopg2 # for PostgresQL\n",
        "import pandas as pd \n",
        "import re\n",
        "import json\n",
        "import time\n",
        "import re\n",
        "import datetime\n",
        "from datetime import datetime\n",
        "import datetime"
      ]
    },
    {
      "cell_type": "markdown",
      "id": "f12162b5",
      "metadata": {
        "id": "f12162b5"
      },
      "source": [
        "### HELPER FUNCTION 1 "
      ]
    },
    {
      "cell_type": "code",
      "execution_count": null,
      "id": "896634b7",
      "metadata": {
        "id": "896634b7"
      },
      "outputs": [],
      "source": [
        "def get_text_sorted(text):\n",
        "    res = [re.sub(r'[^\\w\\s]', '', s) for s in text.lower().split()]\n",
        "    res.sort()\n",
        "    return res\n",
        "\n",
        "def get_hashtags_sorted(hlist):\n",
        "    hlist.sort()\n",
        "    return hlist\n",
        "\n",
        "def get_JSON_date(s):\n",
        "    d=s.split()\n",
        "    t=d[3].split(':')\n",
        "    months={'Jan':1, 'Feb':2, 'Mar':3, 'Apr':4, 'May':5, 'Jun':6, 'Jul':7, 'Aug':8, 'Sep':9, 'Oct':10, 'Nov':11, 'Dec':12}\n",
        "    m=datetime.datetime(day=int(d[2]), month=months[d[1]], hour=int(t[0]), minute=int(t[1]), second=int(t[2]), microsecond=int(d[4]), year=int(d[5]))\n",
        "    return m.isoformat()"
      ]
    },
    {
      "cell_type": "markdown",
      "id": "1f353a6c",
      "metadata": {
        "id": "1f353a6c"
      },
      "source": [
        "### HELPER FUNCTION 2"
      ]
    },
    {
      "cell_type": "code",
      "execution_count": null,
      "id": "3742c52b",
      "metadata": {
        "id": "3742c52b"
      },
      "outputs": [],
      "source": [
        "# Function for Inserting values to user_db and hashtag_db (PostgreSQL)\n",
        "\n",
        "def insert_to_userdb(screen_name,user_id,followers_count,tweet_id):\n",
        "    \"\"\" insert values into the user table \"\"\"\n",
        "    \n",
        "    sql = \"\"\"INSERT INTO user_db(screen_name, user_id ,followers_count, tweet_ids) VALUES(%s,%s,%s,%s);\"\"\"\n",
        "    try:\n",
        "        # execute the INSERT statement\n",
        "        cur.execute(\"ROLLBACK\")\n",
        "        cur.execute(sql, (screen_name,user_id,followers_count,tweet_id))\n",
        "    except (Exception, psycopg2.DatabaseError) as error:\n",
        "        print(error)\n",
        "\n",
        "def update_tweet_ids_userdb(screen_name_,tweet_id):\n",
        "    \"\"\" update values into the userdb table \"\"\" \n",
        "    sql =   \"\"\" UPDATE user_db SET tweet_ids = array_append((SELECT tweet_ids FROM user_db WHERE screen_name=(%s)),(%s)) WHERE screen_name = (%s) \"\"\"\n",
        "    try:\n",
        "        # execute the UPDATE statement\n",
        "        cur.execute(\"ROLLBACK\")\n",
        "        cur.execute(sql, (screen_name_,tweet_id,screen_name_))\n",
        "    except (Exception, psycopg2.DatabaseError) as error:\n",
        "        print(error) \n",
        "    \n",
        "\n",
        "def get_user_screen_names():\n",
        "    cur.execute(\"\"\"SELECT screen_name FROM user_db\"\"\")\n",
        "    output = cur.fetchall()\n",
        "    res = []\n",
        "    for x in output:\n",
        "        res.append(x[0])\n",
        "    return res\n",
        "\n",
        "def get_user_tweet_ids(sc_name):\n",
        "    \"\"\" get tweet_ids values from corresponding user\"\"\" \n",
        "    sql =   \"\"\"SELECT tweet_ids FROM user_db WHERE screen_name = %s\"\"\"\n",
        "    try:\n",
        "        # execute the UPDATE statement\n",
        "        cur.execute(\"ROLLBACK\")\n",
        "        cur.execute(sql, (sc_name,))\n",
        "        output = cur.fetchall()\n",
        "        if len(output) !=0:\n",
        "            return output[0][0]\n",
        "    except (Exception, psycopg2.DatabaseError) as error:\n",
        "        print(error) "
      ]
    },
    {
      "cell_type": "markdown",
      "id": "abe8bb68",
      "metadata": {
        "id": "abe8bb68"
      },
      "source": [
        "### SEARCH FUNCTIONS"
      ]
    },
    {
      "cell_type": "code",
      "execution_count": null,
      "id": "77d28b4b",
      "metadata": {
        "id": "77d28b4b"
      },
      "outputs": [],
      "source": [
        "# 1. Search by string should be fixed using binary search logic based on the interim report\n",
        "def binary_search(text_array, low, high, s):\n",
        "\n",
        "    if high >= low:\n",
        "        mid = (high + low) // 2\n",
        "        if text_array[mid].lower() == s.lower():\n",
        "            return True\n",
        "        elif text_array[mid] > s:\n",
        "            return binary_search(text_array, low, mid - 1, s)\n",
        "        else:\n",
        "            return binary_search(text_array, mid + 1, high, s)\n",
        "    else:\n",
        "        return False\n",
        " \n",
        "def search_by_text():\n",
        "    print('Enter a word you want to search:')\n",
        "    s = input()\n",
        "    print('Searching for ' + s + \" ...\")\n",
        "    if type(s) != str:\n",
        "        s = s.toString()\n",
        "    ret=list()\n",
        "    for doc in tweets.find().sort('interactions', -1):\n",
        "        if binary_search(doc['text_sorted'], 0, len(doc['text_sorted'])-1, s):\n",
        "            ret.append({'Tweet Text':doc['text'],\n",
        "                        'Author of Tweet':doc['user_id'],\n",
        "                        'When Created:':doc[\"created_at\"],\n",
        "                       'Retweet Count':doc['retweet_count']\n",
        "                        })\n",
        "    return ret\n",
        "\n",
        "\n",
        "def search_by_ht():\n",
        "    print('Enter a hashtag you want to search:')\n",
        "    s = input()\n",
        "    print('Searching for ' + s + \" ...\")\n",
        "    if type(s) != str:\n",
        "        s = s.toString()\n",
        "    ret=list()\n",
        "    for doc in tweets.find().sort('interactions', -1):\n",
        "        if binary_search(doc['hashtags'], 0, len(doc['hashtags'])-1, s):\n",
        "            ret.append({'Tweet Text':doc['text'],\n",
        "                        'Author of Tweet':doc['user_id'],\n",
        "                        'When Created:':doc[\"created_at\"],\n",
        "                       'Retweet Count':doc['retweet_count']\n",
        "                        })\n",
        "\n",
        "    return ret\n"
      ]
    },
    {
      "cell_type": "code",
      "execution_count": null,
      "id": "c2808993",
      "metadata": {
        "id": "c2808993"
      },
      "outputs": [],
      "source": []
    },
    {
      "cell_type": "code",
      "execution_count": null,
      "id": "0e1cb96a",
      "metadata": {
        "id": "0e1cb96a"
      },
      "outputs": [],
      "source": [
        "# frequently used function\n",
        "\n",
        "\"\"\"\n",
        "idk what's mean for sort('interactions')\n",
        "\"\"\"\n",
        "def get_tweet_by_ids(tweet_ids):\n",
        "    tweet_data = tweets.find({'id':{'$in':tweet_ids}}).sort('interactions', -1)\n",
        "    return tweets.find({'id':{'$in':tweet_ids}}).sort('interactions', -1)\n",
        "   \n",
        "\n",
        "def get_metadata_from_tweet(tweet_data):\n",
        "    return tweet_data['user_id'],tweet_data['created_at'],len(tweet_data['retweets'])"
      ]
    },
    {
      "cell_type": "code",
      "execution_count": null,
      "id": "5ebee101",
      "metadata": {
        "id": "5ebee101"
      },
      "outputs": [],
      "source": []
    },
    {
      "cell_type": "code",
      "execution_count": null,
      "id": "f867bc98",
      "metadata": {
        "id": "f867bc98"
      },
      "outputs": [],
      "source": []
    },
    {
      "cell_type": "code",
      "execution_count": null,
      "id": "d937d9f2",
      "metadata": {
        "id": "d937d9f2"
      },
      "outputs": [],
      "source": [
        "def get_tweet_id_by_user_name(sc_name):\n",
        "    \"\"\" get tweet_ids values from corresponding user\"\"\" \n",
        "    sql =   \"\"\"SELECT tweet_ids FROM user_db WHERE screen_name = %s\"\"\"\n",
        "    try:\n",
        "        # execute the UPDATE statement\n",
        "        cur.execute(\"ROLLBACK\")\n",
        "        cur.execute(sql, (sc_name,))\n",
        "        output = cur.fetchall()\n",
        "        if len(output) !=0:\n",
        "            return output[0][0]\n",
        "    except (Exception, psycopg2.DatabaseError) as error:\n",
        "        print(error) \n",
        "\n",
        "\n",
        "def search_by_user(user_name):\n",
        "    tweet_ids = get_tweet_id_by_user_name(user_name)\n",
        "    #want a get_user_name_by_user_id for meta data\n",
        "    return get_tweet_by_ids(tweet_ids)"
      ]
    },
    {
      "cell_type": "code",
      "execution_count": null,
      "id": "36d451c2",
      "metadata": {
        "id": "36d451c2"
      },
      "outputs": [],
      "source": []
    },
    {
      "cell_type": "code",
      "execution_count": null,
      "id": "4bf4cd89",
      "metadata": {
        "id": "4bf4cd89"
      },
      "outputs": [],
      "source": [
        "def retweet_info(tweet_id):\n",
        "    retweet_data = []\n",
        "    tweet_data = tweets.find_one({\"id\": tweet_id})\n",
        "    retweets = tweet_data['retweets']\n",
        "    for retweet in retweets:\n",
        "        retweet_info = {}\n",
        "        retweet_info['User_id who retweeted this tweet'] = retweet['user_id']\n",
        "       # screen_name = user_database.index[user_database['user_id']==retweet['user_id']].tolist()\n",
        "       # retweet_info['screen_name'] = screen_name\n",
        "        retweet_info['retweeted_at'] = retweet['created_at']\n",
        "        retweet_data.append(retweet_info)\n",
        "    print(\"Original Tweet \" ,tweet_data['text'])\n",
        "    print()\n",
        "    print('The Retweet info about this tweet is following')\n",
        "    return retweet_data\n"
      ]
    },
    {
      "cell_type": "code",
      "execution_count": null,
      "id": "89eb6d07",
      "metadata": {
        "id": "89eb6d07"
      },
      "outputs": [],
      "source": [
        "def time_range_search():\n",
        "    start_dt = ''\n",
        "    print('Enter a start date of your search(in the format of YEAR-MONTH-DAY ex)2020-04-12): You can press enter to not set the start date.')\n",
        "    start_date = input()\n",
        "    if type(start_date) != str:\n",
        "        start_date = start_date.toString()\n",
        "    if start_date != '':\n",
        "        print('Enter a start date time of your search (in the format of HOUR:MINUTE:SECOND ex)18:26:00):')\n",
        "        start_time = input()\n",
        "        if type(start_time) != str:``\n",
        "            start_time = start_time.toString()\n",
        "        start_dt = start_date + \"T\" + start_time   \n",
        "        \n",
        "    \n",
        "    end_dt = ''\n",
        "    print('Enter a end date of your search (in the format of YEAR-MONTH-DAY ex)2020-04-12): You can press enter to not set the start date.')\n",
        "    end_date = input()\n",
        "    if type(end_date) != str:\n",
        "        end_date = end_date.toString()\n",
        "    if end_date != '':\n",
        "        print('Enter a end date time of of your search (in the format of HOUR:MINUTE:SECOND ex)18:26:00):')\n",
        "        end_time = input()\n",
        "        if type(end_time) != str:\n",
        "            end_time = end_time.toString()\n",
        "        end_dt = end_date + \"T\" + end_time  \n",
        "        \n",
        "    if start_dt != '' and end_dt != '':\n",
        "        query={'created_at':{'$gt':start_dt,'$lt':end_dt}}\n",
        "    elif start_dt != '':\n",
        "        print('Searching from ' + start_dt)  \n",
        "        query={'created_at':{'$gt':start_dt}}\n",
        "    elif end_dt != '':\n",
        "        print('Searching to ' + end_dt)  \n",
        "        query={'created_at':{'$lt':end_dt}}\n",
        "    else:\n",
        "        query={}\n",
        "        \n",
        "    for i in tweets.data.find(query).sort('interactions', -1):\n",
        "        print('NEW NEW')\n",
        "        print('')\n",
        "        print('')\n",
        "        print(i)\n",
        "\n",
        "    return tweets.data.find(query).sort('interactions', -1)\n"
      ]
    },
    {
      "cell_type": "markdown",
      "id": "f04a44c7",
      "metadata": {
        "id": "f04a44c7"
      },
      "source": [
        "### Connecting to DB"
      ]
    },
    {
      "cell_type": "code",
      "execution_count": null,
      "id": "da7967f1",
      "metadata": {
        "id": "da7967f1",
        "outputId": "c3782590-4134-482b-8ab8-332b60a2402d"
      },
      "outputs": [
        {
          "ename": "DuplicateTable",
          "evalue": "relation \"user_db\" already exists\n",
          "output_type": "error",
          "traceback": [
            "\u001b[0;31m---------------------------------------------------------------------------\u001b[0m",
            "\u001b[0;31mDuplicateTable\u001b[0m                            Traceback (most recent call last)",
            "\u001b[0;32m<ipython-input-9-24e7067a95a1>\u001b[0m in \u001b[0;36m<module>\u001b[0;34m\u001b[0m\n\u001b[1;32m     15\u001b[0m \u001b[0mtweets\u001b[0m\u001b[0;34m=\u001b[0m\u001b[0mdb\u001b[0m\u001b[0;34m[\u001b[0m\u001b[0;34m\"tweets_table\"\u001b[0m\u001b[0;34m]\u001b[0m\u001b[0;34m\u001b[0m\u001b[0;34m\u001b[0m\u001b[0m\n\u001b[1;32m     16\u001b[0m \u001b[0mcur\u001b[0m\u001b[0;34m.\u001b[0m\u001b[0mexecute\u001b[0m\u001b[0;34m(\u001b[0m\u001b[0;34m\"ROLLBACK\"\u001b[0m\u001b[0;34m)\u001b[0m\u001b[0;34m\u001b[0m\u001b[0;34m\u001b[0m\u001b[0m\n\u001b[0;32m---> 17\u001b[0;31m \u001b[0mcur\u001b[0m\u001b[0;34m.\u001b[0m\u001b[0mexecute\u001b[0m\u001b[0;34m(\u001b[0m\u001b[0;34m\"CREATE TABLE user_db (screen_name VARCHAR (100) PRIMARY KEY, user_id bigint,followers_count int, tweet_ids bigint[]);\"\u001b[0m\u001b[0;34m)\u001b[0m\u001b[0;34m\u001b[0m\u001b[0;34m\u001b[0m\u001b[0m\n\u001b[0m\u001b[1;32m     18\u001b[0m \u001b[0;34m\u001b[0m\u001b[0m\n\u001b[1;32m     19\u001b[0m \u001b[0;34m\u001b[0m\u001b[0m\n",
            "\u001b[0;31mDuplicateTable\u001b[0m: relation \"user_db\" already exists\n"
          ]
        }
      ],
      "source": [
        "# connecting to the database\n",
        "conn = psycopg2.connect(\n",
        "    host = \"localhost\", #localhost\n",
        "    port = \"5432\", #yourport\n",
        "    database = \"postgres\", # databasename\n",
        "    user=\"postgres\",\n",
        "    password =  my_pwd\n",
        ")\n",
        "cur = conn.cursor() # make  cursor \n",
        "client = pymongo.MongoClient(\"mongodb://localhost:27017/\") \n",
        "\n",
        "\n",
        "# Create DB \n",
        "db = client[\"myDB\"]\n",
        "tweets=db[\"tweets_table\"]\n",
        "cur.execute(\"ROLLBACK\")\n",
        "cur.execute(\"CREATE TABLE user_db (screen_name VARCHAR (100) PRIMARY KEY, user_id bigint,followers_count int, tweet_ids bigint[]);\")\n",
        "\n",
        "\n",
        "# Create Index for MongoDB\n",
        "tweets.create_index([('created_at', pymongo.DESCENDING)])\n",
        "tweets.create_index([('user_id', pymongo.ASCENDING)])\n",
        "tweets.create_index([('id', pymongo.DESCENDING)])"
      ]
    },
    {
      "cell_type": "code",
      "execution_count": null,
      "id": "a23809e5",
      "metadata": {
        "id": "a23809e5",
        "outputId": "7459bf49-90a5-4329-9211-c43db9c91acc"
      },
      "outputs": [
        {
          "data": {
            "text/plain": [
              "[('juwelz_v', 1242817830946508801, 43, [1249403767180668930]),\n",
              " ('Adakisn', 4707764075, 76, [1249403770435493888]),\n",
              " ('TVConservador', 988174833849634816, 7240, [1249403770360016896]),\n",
              " ('charlesmire', 270088915, 1295, [1249403770833981440]),\n",
              " ('Physics_Ashu', 2515708525, 25, [1249403771077005315]),\n",
              " ('meElfpunkt', 1171484224244744198, 3, [1249403771261722624]),\n",
              " ('abhishttripathi', 2341644176, 595, [1249403771676815361]),\n",
              " ('riaz_nov', 2950846039, 4, [1249403771781816323]),\n",
              " ('erinthomasx', 2905457446, 201, [1249403772679438340]),\n",
              " ('Brateki19662327', 1220761862452776965, 186, [1249403773178560515])]"
            ]
          },
          "execution_count": 13,
          "metadata": {},
          "output_type": "execute_result"
        }
      ],
      "source": [
        "cur.execute(\"\"\"SELECT * FROM user_db LIMIT 10;\"\"\")\n",
        "cur.fetchall()"
      ]
    },
    {
      "cell_type": "code",
      "execution_count": null,
      "id": "358964a1",
      "metadata": {
        "id": "358964a1",
        "outputId": "9d1e0bd7-e24b-4033-cab7-0ef81a58ef1e"
      },
      "outputs": [
        {
          "name": "stdout",
          "output_type": "stream",
          "text": [
            "{'_id': ObjectId('62673ef2a5bbd0c81b44e5f6'), 'id': 1249378751349231616, 'text': 'wishing death on people is weirdo behavior.', 'text_sorted': ['behavior', 'death', 'is', 'nuffsaidny', 'on', 'people', 'rt', 'weirdo', 'wishing'], 'created_at': '2020-04-12T16:48:01', 'user_id': 16144221, 'favorite_count': 50, 'retweet_count': 24, 'interactions': 74, 'hashtags': [], 'retweets': [{'id': 1249403767180668930, 'created_at': '2020-04-12T18:27:25', 'user_id': 1242817830946508801}]}\n",
            "{'_id': ObjectId('62673ef2a5bbd0c81b44e5f7'), 'id': 1249397541596286979, 'text': 'In Turkey, there are 300 thousand prisoners and 150 thousand prison employees in prisons. \\nPrisons are the most ris… https://t.co/GogsgfUxkE', 'text_sorted': ['150', '300', 'and', 'are', 'are', 'employees', 'in', 'in', 'lale_karanfil', 'most', 'pl', 'prison', 'prisoners', 'prisons', 'prisons', 'risky', 'rt', 'the', 'there', 'thousand', 'thousand', 'turkey'], 'created_at': '2020-04-12T18:02:41', 'user_id': 1087735689091928064, 'favorite_count': 6, 'retweet_count': 14, 'interactions': 20, 'hashtags': [], 'retweets': [{'id': 1249403768023678982, 'created_at': '2020-04-12T18:27:25', 'user_id': 1225145123920588805}, {'id': 1249403897380298754, 'created_at': '2020-04-12T18:27:56', 'user_id': 948148560964530176}, {'id': 1249403953562951682, 'created_at': '2020-04-12T18:28:09', 'user_id': 1186760088805097475}, {'id': 1249405604352987137, 'created_at': '2020-04-12T18:34:43', 'user_id': 1178936571346784256}, {'id': 1249406101029883907, 'created_at': '2020-04-12T18:36:41', 'user_id': 1239890705264361472}, {'id': 1249406159435567114, 'created_at': '2020-04-12T18:36:55', 'user_id': 1243226062504460289}, {'id': 1249406248740622337, 'created_at': '2020-04-12T18:37:17', 'user_id': 1232379441080344582}, {'id': 1249406250720395265, 'created_at': '2020-04-12T18:37:17', 'user_id': 982727966387048449}, {'id': 1249407818786054150, 'created_at': '2020-04-12T18:43:31', 'user_id': 1235567466295824385}, {'id': 1249408471797301251, 'created_at': '2020-04-12T18:46:07', 'user_id': 1050113420291395584}]}\n",
            "{'_id': ObjectId('62673ef2a5bbd0c81b44e5f8'), 'id': 1249326224964345857, 'text': 'Thank You Sir !!\\nReally thankful for encouraging the \\n@BSNL_OR \\n Staff risking their life in maintaining the Teleco… https://t.co/4Qq4QZEqUP', 'text_sorted': ['', 'bsnl_or', 'encouraging', 'for', 'in', 'life', 'maintaining', 'really', 'risking', 'rt', 'service', 'sir', 'staff', 'telecom', 'thank', 'thankful', 'the', 'the', 'their', 'umesh_agr', 'you'], 'created_at': '2020-04-12T13:19:18', 'user_id': 268218622, 'favorite_count': 24, 'retweet_count': 18, 'interactions': 42, 'hashtags': [], 'retweets': [{'id': 1249403769193779202, 'created_at': '2020-04-12T18:27:26', 'user_id': 101007632}]}\n",
            "{'_id': ObjectId('62673ef2a5bbd0c81b44e5f9'), 'id': 1249403114614075400, 'text': 'Turkey is so stubborn to change their mind, they want innocent babies and their mothers, journalists, lawyers, doct… https://t.co/Toujr7DXNI', 'text_sorted': ['and', 'babies', 'change', 'doctors', 'human', 'innocent', 'is', 'journalists', 'lawyers', 'meysimek', 'mind', 'mothers', 'rt', 'so', 'stubborn', 'their', 'their', 'they', 'to', 'turkey', 'want'], 'created_at': '2020-04-12T18:24:49', 'user_id': 1193535233242664960, 'favorite_count': 4, 'retweet_count': 8, 'interactions': 12, 'hashtags': [], 'retweets': [{'id': 1249403769567227906, 'created_at': '2020-04-12T18:27:26', 'user_id': 1230170166614482944}, {'id': 1249403785832738816, 'created_at': '2020-04-12T18:27:29', 'user_id': 1246029295367204865}, {'id': 1249403844712452096, 'created_at': '2020-04-12T18:27:44', 'user_id': 1235567466295824385}, {'id': 1249403865419612162, 'created_at': '2020-04-12T18:27:48', 'user_id': 592732220}, {'id': 1249403906041548800, 'created_at': '2020-04-12T18:27:58', 'user_id': 1236967780311797760}, {'id': 1249403952904503296, 'created_at': '2020-04-12T18:28:09', 'user_id': 1047196944936964097}, {'id': 1249404015387054081, 'created_at': '2020-04-12T18:28:24', 'user_id': 1198254416991866880}, {'id': 1249404089651408904, 'created_at': '2020-04-12T18:28:42', 'user_id': 705721122814369792}, {'id': 1249404424604340224, 'created_at': '2020-04-12T18:30:02', 'user_id': 1242546643326701572}, {'id': 1249404475938410500, 'created_at': '2020-04-12T18:30:14', 'user_id': 1243097668529934336}, {'id': 1249404584570880003, 'created_at': '2020-04-12T18:30:40', 'user_id': 1239890705264361472}, {'id': 1249404703601016833, 'created_at': '2020-04-12T18:31:08', 'user_id': 1133676612468269057}, {'id': 1249404706541142016, 'created_at': '2020-04-12T18:31:09', 'user_id': 1236037581550338050}, {'id': 1249405067289124871, 'created_at': '2020-04-12T18:32:35', 'user_id': 1244291835633324032}, {'id': 1249406023934390272, 'created_at': '2020-04-12T18:36:23', 'user_id': 802662274548826113}, {'id': 1249406514797907968, 'created_at': '2020-04-12T18:38:20', 'user_id': 1203311056212365312}, {'id': 1249407299380293633, 'created_at': '2020-04-12T18:41:27', 'user_id': 216771818}, {'id': 1249407344850632704, 'created_at': '2020-04-12T18:41:38', 'user_id': 2189516392}, {'id': 1249408369225388032, 'created_at': '2020-04-12T18:45:42', 'user_id': 1165528066338279424}]}\n",
            "{'_id': ObjectId('62673ef2a5bbd0c81b44e5fa'), 'id': 1249316363681910784, 'text': 'This image.\\nThis quote.\\n\\n“One of the reasons the pandemic is hitting the country so hard is that no one appears to… https://t.co/fypNKXxlpb', 'text_sorted': ['appears', 'be', 'biannagolodryga', 'country', 'hard', 'hitting', 'image', 'is', 'is', 'no', 'of', 'one', 'one', 'pandemic', 'quote', 'reasons', 'rt', 'so', 'that', 'the', 'the', 'the', 'this', 'this', 'to'], 'created_at': '2020-04-12T12:40:06', 'user_id': 14135350, 'favorite_count': 6343, 'retweet_count': 3085, 'interactions': 9428, 'hashtags': [], 'retweets': [{'id': 1249403770435493888, 'created_at': '2020-04-12T18:27:26', 'user_id': 4707764075}, {'id': 1249403770833981440, 'created_at': '2020-04-12T18:27:26', 'user_id': 270088915}, {'id': 1249403862823383042, 'created_at': '2020-04-12T18:27:48', 'user_id': 2766788269}, {'id': 1249403871408975874, 'created_at': '2020-04-12T18:27:50', 'user_id': 183676674}, {'id': 1249403932180439041, 'created_at': '2020-04-12T18:28:04', 'user_id': 3237072821}, {'id': 1249403975889231873, 'created_at': '2020-04-12T18:28:15', 'user_id': 839836723}, {'id': 1249403981488705536, 'created_at': '2020-04-12T18:28:16', 'user_id': 914511457}, {'id': 1249404023955914754, 'created_at': '2020-04-12T18:28:26', 'user_id': 1498788324}, {'id': 1249404029295263756, 'created_at': '2020-04-12T18:28:28', 'user_id': 36649224}, {'id': 1249404031975542786, 'created_at': '2020-04-12T18:28:28', 'user_id': 2645368527}, {'id': 1249404050254299137, 'created_at': '2020-04-12T18:28:33', 'user_id': 747164538294829056}, {'id': 1249404056491171843, 'created_at': '2020-04-12T18:28:34', 'user_id': 841099341049786368}, {'id': 1249404070957166592, 'created_at': '2020-04-12T18:28:37', 'user_id': 50226875}, {'id': 1249404103299493889, 'created_at': '2020-04-12T18:28:45', 'user_id': 3554939899}, {'id': 1249404122954113024, 'created_at': '2020-04-12T18:28:50', 'user_id': 77184521}, {'id': 1249404127064489986, 'created_at': '2020-04-12T18:28:51', 'user_id': 349721109}, {'id': 1249404260141408256, 'created_at': '2020-04-12T18:29:23', 'user_id': 1100799551252979713}, {'id': 1249404269544923136, 'created_at': '2020-04-12T18:29:25', 'user_id': 25168495}, {'id': 1249404282362888192, 'created_at': '2020-04-12T18:29:28', 'user_id': 1213670478897762304}, {'id': 1249404283868581890, 'created_at': '2020-04-12T18:29:28', 'user_id': 278047034}, {'id': 1249404332413456384, 'created_at': '2020-04-12T18:29:40', 'user_id': 1249783933}, {'id': 1249404342580502528, 'created_at': '2020-04-12T18:29:42', 'user_id': 25115458}, {'id': 1249404345164025856, 'created_at': '2020-04-12T18:29:43', 'user_id': 1198146886491729920}, {'id': 1249404367511392257, 'created_at': '2020-04-12T18:29:48', 'user_id': 487007828}, {'id': 1249404371537805312, 'created_at': '2020-04-12T18:29:49', 'user_id': 52125345}, {'id': 1249404372519288832, 'created_at': '2020-04-12T18:29:49', 'user_id': 2648724698}, {'id': 1249404406631628802, 'created_at': '2020-04-12T18:29:58', 'user_id': 134067670}, {'id': 1249404412595822592, 'created_at': '2020-04-12T18:29:59', 'user_id': 780867953315106816}, {'id': 1249404429201215489, 'created_at': '2020-04-12T18:30:03', 'user_id': 26365477}, {'id': 1249404455717605377, 'created_at': '2020-04-12T18:30:09', 'user_id': 740737945619947521}, {'id': 1249404478169788417, 'created_at': '2020-04-12T18:30:15', 'user_id': 2884194208}, {'id': 1249404491729907714, 'created_at': '2020-04-12T18:30:18', 'user_id': 1294298378}, {'id': 1249404502639247360, 'created_at': '2020-04-12T18:30:20', 'user_id': 2219216444}, {'id': 1249404530992672768, 'created_at': '2020-04-12T18:30:27', 'user_id': 230967933}, {'id': 1249404579965370370, 'created_at': '2020-04-12T18:30:39', 'user_id': 1050211473601966080}, {'id': 1249404582041726977, 'created_at': '2020-04-12T18:30:39', 'user_id': 314468797}, {'id': 1249404641562873981, 'created_at': '2020-04-12T18:30:54', 'user_id': 960758882007068672}, {'id': 1249404688220520448, 'created_at': '2020-04-12T18:31:05', 'user_id': 2317731366}, {'id': 1249404696550236160, 'created_at': '2020-04-12T18:31:07', 'user_id': 705564904296611840}, {'id': 1249404701440757762, 'created_at': '2020-04-12T18:31:08', 'user_id': 180398773}, {'id': 1249404745753792512, 'created_at': '2020-04-12T18:31:18', 'user_id': 881695813591859201}, {'id': 1249404748924702728, 'created_at': '2020-04-12T18:31:19', 'user_id': 222217244}, {'id': 1249404816851374086, 'created_at': '2020-04-12T18:31:35', 'user_id': 4412143822}, {'id': 1249404829299912704, 'created_at': '2020-04-12T18:31:38', 'user_id': 962146088852443137}, {'id': 1249404866331586561, 'created_at': '2020-04-12T18:31:47', 'user_id': 22368104}, {'id': 1249404882114580480, 'created_at': '2020-04-12T18:31:51', 'user_id': 21365593}, {'id': 1249404902197116929, 'created_at': '2020-04-12T18:31:56', 'user_id': 2843884504}, {'id': 1249404951543066625, 'created_at': '2020-04-12T18:32:07', 'user_id': 15316030}, {'id': 1249405042102337543, 'created_at': '2020-04-12T18:32:29', 'user_id': 901394840809873408}, {'id': 1249405043666714627, 'created_at': '2020-04-12T18:32:29', 'user_id': 214545739}, {'id': 1249405057784741895, 'created_at': '2020-04-12T18:32:33', 'user_id': 822595968365449217}, {'id': 1249405140177739781, 'created_at': '2020-04-12T18:32:52', 'user_id': 940326978}, {'id': 1249405163477110789, 'created_at': '2020-04-12T18:32:58', 'user_id': 3561527597}, {'id': 1249405155545624577, 'created_at': '2020-04-12T18:32:56', 'user_id': 849038744082690048}, {'id': 1249405218137268225, 'created_at': '2020-04-12T18:33:11', 'user_id': 1024467386727063553}, {'id': 1249405224017592321, 'created_at': '2020-04-12T18:33:12', 'user_id': 25821599}, {'id': 1249405229826633728, 'created_at': '2020-04-12T18:33:14', 'user_id': 1388366005}, {'id': 1249405234121781248, 'created_at': '2020-04-12T18:33:15', 'user_id': 1241762357338165248}, {'id': 1249405234759139329, 'created_at': '2020-04-12T18:33:15', 'user_id': 824486293367250944}, {'id': 1249405247476269057, 'created_at': '2020-04-12T18:33:18', 'user_id': 134299459}, {'id': 1249405253667053568, 'created_at': '2020-04-12T18:33:19', 'user_id': 1184884693742653441}, {'id': 1249405258054414336, 'created_at': '2020-04-12T18:33:21', 'user_id': 941078005283246080}, {'id': 1249405286588264449, 'created_at': '2020-04-12T18:33:27', 'user_id': 343618991}, {'id': 1249405293181595654, 'created_at': '2020-04-12T18:33:29', 'user_id': 1929590059}, {'id': 1249405312332894215, 'created_at': '2020-04-12T18:33:33', 'user_id': 831229273721753601}, {'id': 1249405316166373376, 'created_at': '2020-04-12T18:33:34', 'user_id': 47165852}, {'id': 1249405337901334539, 'created_at': '2020-04-12T18:33:40', 'user_id': 953362126910951424}, {'id': 1249405348257181698, 'created_at': '2020-04-12T18:33:42', 'user_id': 169269282}, {'id': 1249405371153866752, 'created_at': '2020-04-12T18:33:47', 'user_id': 45674610}, {'id': 1249405378988826624, 'created_at': '2020-04-12T18:33:49', 'user_id': 800703500099293185}, {'id': 1249405390816604161, 'created_at': '2020-04-12T18:33:52', 'user_id': 1080667026899652608}, {'id': 1249405409875636224, 'created_at': '2020-04-12T18:33:57', 'user_id': 1020784309}, {'id': 1249405413348511744, 'created_at': '2020-04-12T18:33:58', 'user_id': 1463530004}, {'id': 1249405436198965248, 'created_at': '2020-04-12T18:34:03', 'user_id': 17014037}, {'id': 1249405460995809280, 'created_at': '2020-04-12T18:34:09', 'user_id': 216435751}, {'id': 1249405487059271681, 'created_at': '2020-04-12T18:34:15', 'user_id': 828084935567216642}, {'id': 1249405507296788480, 'created_at': '2020-04-12T18:34:20', 'user_id': 198039574}, {'id': 1249405517983858688, 'created_at': '2020-04-12T18:34:22', 'user_id': 36098164}, {'id': 1249405526812831744, 'created_at': '2020-04-12T18:34:25', 'user_id': 31040699}, {'id': 1249405529236967424, 'created_at': '2020-04-12T18:34:25', 'user_id': 1498204075}, {'id': 1249405572279078917, 'created_at': '2020-04-12T18:34:35', 'user_id': 969773006598934528}, {'id': 1249405582249005058, 'created_at': '2020-04-12T18:34:38', 'user_id': 875581291}, {'id': 1249405627094323200, 'created_at': '2020-04-12T18:34:48', 'user_id': 254572614}, {'id': 1249405656223944709, 'created_at': '2020-04-12T18:34:55', 'user_id': 28350933}, {'id': 1249405663089815553, 'created_at': '2020-04-12T18:34:57', 'user_id': 809632779117928449}, {'id': 1249405695688085504, 'created_at': '2020-04-12T18:35:05', 'user_id': 16340092}, {'id': 1249405731981398017, 'created_at': '2020-04-12T18:35:13', 'user_id': 18134480}, {'id': 1249405732648345608, 'created_at': '2020-04-12T18:35:14', 'user_id': 23547351}, {'id': 1249405734950846465, 'created_at': '2020-04-12T18:35:14', 'user_id': 25581114}, {'id': 1249405761412681729, 'created_at': '2020-04-12T18:35:21', 'user_id': 15811630}, {'id': 1249405766949371908, 'created_at': '2020-04-12T18:35:22', 'user_id': 814958348344836096}, {'id': 1249405770786951169, 'created_at': '2020-04-12T18:35:23', 'user_id': 538461760}, {'id': 1249405771265257472, 'created_at': '2020-04-12T18:35:23', 'user_id': 627343049}, {'id': 1249405850101469185, 'created_at': '2020-04-12T18:35:42', 'user_id': 733094237923737601}, {'id': 1249405860486488068, 'created_at': '2020-04-12T18:35:44', 'user_id': 26984289}, {'id': 1249405886621048833, 'created_at': '2020-04-12T18:35:50', 'user_id': 871779632978067456}, {'id': 1249405918774779905, 'created_at': '2020-04-12T18:35:58', 'user_id': 14327615}, {'id': 1249405951914004481, 'created_at': '2020-04-12T18:36:06', 'user_id': 89511627}, {'id': 1249405972667301891, 'created_at': '2020-04-12T18:36:11', 'user_id': 115819256}, {'id': 1249406080389505025, 'created_at': '2020-04-12T18:36:37', 'user_id': 1197240407232434176}, {'id': 1249406100547477504, 'created_at': '2020-04-12T18:36:41', 'user_id': 54022781}, {'id': 1249406116695617536, 'created_at': '2020-04-12T18:36:45', 'user_id': 1159868715023904769}, {'id': 1249406138300264448, 'created_at': '2020-04-12T18:36:50', 'user_id': 15224269}, {'id': 1249406161637593095, 'created_at': '2020-04-12T18:36:56', 'user_id': 260876501}, {'id': 1249406256290369536, 'created_at': '2020-04-12T18:37:19', 'user_id': 752689826604855297}, {'id': 1249406267338211329, 'created_at': '2020-04-12T18:37:21', 'user_id': 4896399850}, {'id': 1249406302520041472, 'created_at': '2020-04-12T18:37:30', 'user_id': 120580077}, {'id': 1249406334954385408, 'created_at': '2020-04-12T18:37:37', 'user_id': 28819560}, {'id': 1249406350624350208, 'created_at': '2020-04-12T18:37:41', 'user_id': 360248374}, {'id': 1249406352704880641, 'created_at': '2020-04-12T18:37:41', 'user_id': 3247044122}, {'id': 1249406392307453953, 'created_at': '2020-04-12T18:37:51', 'user_id': 73265354}, {'id': 1249406400926822403, 'created_at': '2020-04-12T18:37:53', 'user_id': 466695289}, {'id': 1249406408707186698, 'created_at': '2020-04-12T18:37:55', 'user_id': 483021402}, {'id': 1249406458598432768, 'created_at': '2020-04-12T18:38:07', 'user_id': 49444636}, {'id': 1249406487031472128, 'created_at': '2020-04-12T18:38:14', 'user_id': 2582966690}, {'id': 1249406491125100545, 'created_at': '2020-04-12T18:38:14', 'user_id': 707432781492699137}, {'id': 1249406525648576512, 'created_at': '2020-04-12T18:38:23', 'user_id': 1041491}, {'id': 1249406624776753157, 'created_at': '2020-04-12T18:38:46', 'user_id': 735633577}, {'id': 1249406647874859009, 'created_at': '2020-04-12T18:38:52', 'user_id': 4828356043}, {'id': 1249406659354447873, 'created_at': '2020-04-12T18:38:55', 'user_id': 709899467378532352}, {'id': 1249406747804131328, 'created_at': '2020-04-12T18:39:16', 'user_id': 499897481}, {'id': 1249406785619988492, 'created_at': '2020-04-12T18:39:25', 'user_id': 818527632480464896}, {'id': 1249406796319674369, 'created_at': '2020-04-12T18:39:27', 'user_id': 14100617}, {'id': 1249406815093379074, 'created_at': '2020-04-12T18:39:32', 'user_id': 1181005518904713216}, {'id': 1249406856524685313, 'created_at': '2020-04-12T18:39:42', 'user_id': 2737961502}, {'id': 1249406869241835520, 'created_at': '2020-04-12T18:39:45', 'user_id': 1713422574}, {'id': 1249406877399728133, 'created_at': '2020-04-12T18:39:47', 'user_id': 44781354}, {'id': 1249406918042492928, 'created_at': '2020-04-12T18:39:56', 'user_id': 490599154}, {'id': 1249406932949008387, 'created_at': '2020-04-12T18:40:00', 'user_id': 53276941}, {'id': 1249406952678903810, 'created_at': '2020-04-12T18:40:05', 'user_id': 20380505}, {'id': 1249406988611653632, 'created_at': '2020-04-12T18:40:13', 'user_id': 1221220709189541889}, {'id': 1249407100389818373, 'created_at': '2020-04-12T18:40:40', 'user_id': 17783085}, {'id': 1249407113245442048, 'created_at': '2020-04-12T18:40:43', 'user_id': 263302994}, {'id': 1249407116701503488, 'created_at': '2020-04-12T18:40:44', 'user_id': 19777797}, {'id': 1249407119624790018, 'created_at': '2020-04-12T18:40:44', 'user_id': 2441986746}, {'id': 1249407119368937472, 'created_at': '2020-04-12T18:40:44', 'user_id': 651403}, {'id': 1249407120677703682, 'created_at': '2020-04-12T18:40:45', 'user_id': 938737432169771010}, {'id': 1249407142542675970, 'created_at': '2020-04-12T18:40:50', 'user_id': 2307221766}, {'id': 1249407144002113536, 'created_at': '2020-04-12T18:40:50', 'user_id': 627017650}, {'id': 1249407147785555969, 'created_at': '2020-04-12T18:40:51', 'user_id': 1184112668791230464}, {'id': 1249407184074616836, 'created_at': '2020-04-12T18:41:00', 'user_id': 832297766399393794}, {'id': 1249407204165218304, 'created_at': '2020-04-12T18:41:04', 'user_id': 480252482}, {'id': 1249407236255989764, 'created_at': '2020-04-12T18:41:12', 'user_id': 16197166}, {'id': 1249407269248348161, 'created_at': '2020-04-12T18:41:20', 'user_id': 1225964367218446336}, {'id': 1249407320515170304, 'created_at': '2020-04-12T18:41:32', 'user_id': 762728510267863040}, {'id': 1249407341184909317, 'created_at': '2020-04-12T18:41:37', 'user_id': 47622892}, {'id': 1249407393882128384, 'created_at': '2020-04-12T18:41:50', 'user_id': 16876752}, {'id': 1249407394410422273, 'created_at': '2020-04-12T18:41:50', 'user_id': 492010683}, {'id': 1249407410126483456, 'created_at': '2020-04-12T18:41:54', 'user_id': 25877022}, {'id': 1249407418766888962, 'created_at': '2020-04-12T18:41:56', 'user_id': 1074729218632806401}, {'id': 1249407419064545281, 'created_at': '2020-04-12T18:41:56', 'user_id': 18684946}, {'id': 1249407425397919745, 'created_at': '2020-04-12T18:41:57', 'user_id': 327140042}, {'id': 1249407472571305984, 'created_at': '2020-04-12T18:42:08', 'user_id': 531928247}, {'id': 1249407524035538950, 'created_at': '2020-04-12T18:42:21', 'user_id': 797854315192995840}, {'id': 1249407536765317123, 'created_at': '2020-04-12T18:42:24', 'user_id': 466887642}, {'id': 1249407543484375040, 'created_at': '2020-04-12T18:42:25', 'user_id': 87827750}, {'id': 1249407569271164928, 'created_at': '2020-04-12T18:42:32', 'user_id': 2751484065}, {'id': 1249407590435565579, 'created_at': '2020-04-12T18:42:37', 'user_id': 245945434}, {'id': 1249407622085611520, 'created_at': '2020-04-12T18:42:44', 'user_id': 316761016}, {'id': 1249407651349315585, 'created_at': '2020-04-12T18:42:51', 'user_id': 2900651864}, {'id': 1249407660069392384, 'created_at': '2020-04-12T18:42:53', 'user_id': 22369602}, {'id': 1249407689651879936, 'created_at': '2020-04-12T18:43:00', 'user_id': 728889050}, {'id': 1249407694286532609, 'created_at': '2020-04-12T18:43:01', 'user_id': 466887642}, {'id': 1249407710254096384, 'created_at': '2020-04-12T18:43:05', 'user_id': 2840684943}, {'id': 1249407787727110145, 'created_at': '2020-04-12T18:43:24', 'user_id': 2271151776}, {'id': 1249407805783564288, 'created_at': '2020-04-12T18:43:28', 'user_id': 853850918172770304}, {'id': 1249407860519456774, 'created_at': '2020-04-12T18:43:41', 'user_id': 4424132853}, {'id': 1249407871776722944, 'created_at': '2020-04-12T18:43:44', 'user_id': 59851730}, {'id': 1249407881717440518, 'created_at': '2020-04-12T18:43:46', 'user_id': 181724147}, {'id': 1249407890894376962, 'created_at': '2020-04-12T18:43:48', 'user_id': 541225013}, {'id': 1249407937157758976, 'created_at': '2020-04-12T18:43:59', 'user_id': 14662016}, {'id': 1249407938495680512, 'created_at': '2020-04-12T18:44:00', 'user_id': 822505106994266112}, {'id': 1249407940542390272, 'created_at': '2020-04-12T18:44:00', 'user_id': 101271483}, {'id': 1249407948721393664, 'created_at': '2020-04-12T18:44:02', 'user_id': 956620773057232898}, {'id': 1249408019416391681, 'created_at': '2020-04-12T18:44:19', 'user_id': 631704732}, {'id': 1249408069433466890, 'created_at': '2020-04-12T18:44:31', 'user_id': 2357147072}, {'id': 1249408101603848194, 'created_at': '2020-04-12T18:44:38', 'user_id': 385726008}, {'id': 1249408127507800064, 'created_at': '2020-04-12T18:44:45', 'user_id': 756887124423614464}, {'id': 1249408149276241921, 'created_at': '2020-04-12T18:44:50', 'user_id': 824132939390812160}, {'id': 1249408153248247808, 'created_at': '2020-04-12T18:44:51', 'user_id': 1537157346}, {'id': 1249408173502578689, 'created_at': '2020-04-12T18:44:56', 'user_id': 4692259886}, {'id': 1249408175931088903, 'created_at': '2020-04-12T18:44:56', 'user_id': 84318444}, {'id': 1249408181421379585, 'created_at': '2020-04-12T18:44:57', 'user_id': 4418940743}, {'id': 1249408211259547649, 'created_at': '2020-04-12T18:45:05', 'user_id': 502477899}, {'id': 1249408227567112194, 'created_at': '2020-04-12T18:45:08', 'user_id': 3465471022}, {'id': 1249408234286460930, 'created_at': '2020-04-12T18:45:10', 'user_id': 14386940}, {'id': 1249408237520269319, 'created_at': '2020-04-12T18:45:11', 'user_id': 785285971818545152}, {'id': 1249408262358937603, 'created_at': '2020-04-12T18:45:17', 'user_id': 2251242284}, {'id': 1249408263017435139, 'created_at': '2020-04-12T18:45:17', 'user_id': 702106556867936256}, {'id': 1249408289038688256, 'created_at': '2020-04-12T18:45:23', 'user_id': 901229503006990337}, {'id': 1249408327886520326, 'created_at': '2020-04-12T18:45:32', 'user_id': 76639869}, {'id': 1249408363953192962, 'created_at': '2020-04-12T18:45:41', 'user_id': 1001969613213548544}, {'id': 1249408364871745536, 'created_at': '2020-04-12T18:45:41', 'user_id': 953004745}, {'id': 1249408385650429955, 'created_at': '2020-04-12T18:45:46', 'user_id': 782684891552952320}, {'id': 1249408424397410306, 'created_at': '2020-04-12T18:45:55', 'user_id': 95232582}, {'id': 1249408429090680832, 'created_at': '2020-04-12T18:45:57', 'user_id': 1221603127150825477}, {'id': 1249408466965237761, 'created_at': '2020-04-12T18:46:06', 'user_id': 868158280039710720}, {'id': 1249408485248454656, 'created_at': '2020-04-12T18:46:10', 'user_id': 913627226}, {'id': 1249408487269920769, 'created_at': '2020-04-12T18:46:10', 'user_id': 14135727}, {'id': 1249408504034496512, 'created_at': '2020-04-12T18:46:14', 'user_id': 3063163497}, {'id': 1249408522049204228, 'created_at': '2020-04-12T18:46:19', 'user_id': 125383196}, {'id': 1249408523156353024, 'created_at': '2020-04-12T18:46:19', 'user_id': 898633935529197569}, {'id': 1249408624113455105, 'created_at': '2020-04-12T18:46:43', 'user_id': 1126112054}, {'id': 1249408644711690241, 'created_at': '2020-04-12T18:46:48', 'user_id': 27837138}, {'id': 1249408669248368646, 'created_at': '2020-04-12T18:46:54', 'user_id': 834913928270471172}, {'id': 1249408676172926976, 'created_at': '2020-04-12T18:46:55', 'user_id': 1056591074901118976}, {'id': 1249408715893231617, 'created_at': '2020-04-12T18:47:05', 'user_id': 94107502}, {'id': 1249408743957303302, 'created_at': '2020-04-12T18:47:12', 'user_id': 937059116}, {'id': 1249408786520891399, 'created_at': '2020-04-12T18:47:22', 'user_id': 244814769}, {'id': 1249408786525118464, 'created_at': '2020-04-12T18:47:22', 'user_id': 21882397}, {'id': 1249408789033283585, 'created_at': '2020-04-12T18:47:22', 'user_id': 2927838031}, {'id': 1249408851323076609, 'created_at': '2020-04-12T18:47:37', 'user_id': 329018682}, {'id': 1249408861586497536, 'created_at': '2020-04-12T18:47:40', 'user_id': 489923407}, {'id': 1249408887427604481, 'created_at': '2020-04-12T18:47:46', 'user_id': 1237519445095940097}, {'id': 1249408887880667138, 'created_at': '2020-04-12T18:47:46', 'user_id': 13108822}, {'id': 1249408916276023296, 'created_at': '2020-04-12T18:47:53', 'user_id': 19665977}, {'id': 1249408916750041094, 'created_at': '2020-04-12T18:47:53', 'user_id': 491861073}]}\n",
            "{'_id': ObjectId('62673ef2a5bbd0c81b44e5fb'), 'id': 1249403770360016896, 'text': 'SERÁ APENAS COINCIDÊNCIA?\\n\\nApós escudo do Remo aparecer em prédio, Prefeitura divulgou que 33 pessoas com corona se… https://t.co/lCcwYH2eg5', 'text_sorted': ['33', 'aparecer', 'apenas', 'após', 'coincidência', 'com', 'corona', 'divulgou', 'do', 'em', 'escudo', 'httpstcolccwyh2eg5', 'pessoas', 'prefeitura', 'prédio', 'que', 'remo', 'se', 'será'], 'created_at': '2020-04-12T18:27:26', 'user_id': 988174833849634816, 'favorite_count': 0, 'retweet_count': 0, 'interactions': 0, 'hashtags': [], 'retweets': [{'id': 1249403904439267328, 'created_at': '2020-04-12T18:27:58', 'user_id': 994436540863537157}, {'id': 1249404205724512257, 'created_at': '2020-04-12T18:29:10', 'user_id': 110278669}, {'id': 1249404247306694656, 'created_at': '2020-04-12T18:29:20', 'user_id': 712451883542179845}, {'id': 1249404612332920833, 'created_at': '2020-04-12T18:30:47', 'user_id': 1037371369837744128}, {'id': 1249404765680918530, 'created_at': '2020-04-12T18:31:23', 'user_id': 873978487023050752}]}\n",
            "{'_id': ObjectId('62673ef2a5bbd0c81b44e5fc'), 'id': 1249353696447574016, 'text': 'भाजपा नेता तज़िंदर बग्गा ने 2500 से अधिक ट्वीट कर पूरे देश में कोरोना पीड़ित हज़ारों परिवारों को मदद पहुँचायी, पक्ष… https://t.co/79mm6ni9mQ', 'text_sorted': ['2500', 'rt', 'sarkarihelpline', 'अधक', 'क', 'कर', 'करन', 'टवट', 'तजदर', 'दश', 'न', 'नत', 'पकष', 'पडत', 'पर', 'परवर', 'पहचय', 'बगग', 'भजप', 'म', 'मदद', 'स', 'ह', 'हजर'], 'created_at': '2020-04-12T15:08:27', 'user_id': 1247877703488823296, 'favorite_count': 994, 'retweet_count': 263, 'interactions': 1257, 'hashtags': [], 'retweets': [{'id': 1249403771077005315, 'created_at': '2020-04-12T18:27:26', 'user_id': 2515708525}, {'id': 1249404768746737664, 'created_at': '2020-04-12T18:31:24', 'user_id': 1593285181}, {'id': 1249408392243765250, 'created_at': '2020-04-12T18:45:48', 'user_id': 949204759}, {'id': 1249408588847575043, 'created_at': '2020-04-12T18:46:35', 'user_id': 451213095}, {'id': 1249408655671386115, 'created_at': '2020-04-12T18:46:51', 'user_id': 2375775709}, {'id': 1249408655671386115, 'created_at': '2020-04-12T18:46:51', 'user_id': 2375775709}, {'id': 1249408667553759233, 'created_at': '2020-04-12T18:46:53', 'user_id': 941130785276420097}, {'id': 1249408736667545601, 'created_at': '2020-04-12T18:47:10', 'user_id': 1098544246477459459}]}\n",
            "{'_id': ObjectId('62673ef2a5bbd0c81b44e5fd'), 'id': 1249403771261722624, 'text': '#Bo der Osterhase hat nicht Corona, er ist gekommen.', 'text_sorted': ['bo', 'corona', 'der', 'er', 'gekommen', 'hat', 'ist', 'nicht', 'osterhase'], 'created_at': '2020-04-12T18:27:26', 'user_id': 1171484224244744198, 'favorite_count': 0, 'retweet_count': 0, 'interactions': 0, 'hashtags': ['bo'], 'retweets': []}\n",
            "{'_id': ObjectId('62673ef2a5bbd0c81b44e5fe'), 'id': 1248907321947783170, 'text': 'India Mai Corona Virus Ka Bhukar..!! https://t.co/kZyU5Td3PK', 'text_sorted': ['ani_royal007', 'bhukar', 'corona', 'httpstcokzyu5td3pk', 'india', 'ka', 'mai', 'rt', 'virus'], 'created_at': '2020-04-11T09:34:43', 'user_id': 3917836273, 'favorite_count': 74, 'retweet_count': 63, 'interactions': 137, 'hashtags': [], 'retweets': [{'id': 1249403771676815361, 'created_at': '2020-04-12T18:27:26', 'user_id': 2341644176}]}\n",
            "{'_id': ObjectId('62673ef2a5bbd0c81b44e5ff'), 'id': 1249403771781816323, 'text': \"@ArvindKejriwal This guy is all praising Modiji, awesome Mr.Kejriwal for taking a U turn and deceiving people's man… https://t.co/8lUnbgOLNt\", 'text_sorted': ['a', 'all', 'and', 'arvindkejriwal', 'awesome', 'deceiving', 'for', 'guy', 'httpstco8lunbgolnt', 'is', 'man', 'modiji', 'mrkejriwal', 'peoples', 'praising', 'taking', 'this', 'turn', 'u'], 'created_at': '2020-04-12T18:27:26', 'user_id': 2950846039, 'favorite_count': 0, 'retweet_count': 0, 'interactions': 0, 'hashtags': [], 'retweets': []}\n"
          ]
        }
      ],
      "source": [
        "a=0\n",
        "for x in tweets.find():\n",
        "    print(x)\n",
        "    a+=1\n",
        "    if a == 10:\n",
        "        break"
      ]
    },
    {
      "cell_type": "code",
      "execution_count": null,
      "id": "92fb2cd9",
      "metadata": {
        "id": "92fb2cd9"
      },
      "outputs": [],
      "source": []
    },
    {
      "cell_type": "code",
      "execution_count": null,
      "id": "776c2ea0",
      "metadata": {
        "id": "776c2ea0"
      },
      "outputs": [],
      "source": []
    },
    {
      "cell_type": "markdown",
      "id": "e79e5aa9",
      "metadata": {
        "id": "e79e5aa9"
      },
      "source": [
        "## Test for Search"
      ]
    },
    {
      "cell_type": "markdown",
      "id": "7e111492",
      "metadata": {
        "id": "7e111492"
      },
      "source": [
        "#### Search By User"
      ]
    },
    {
      "cell_type": "code",
      "execution_count": null,
      "id": "7d94b6ae",
      "metadata": {
        "id": "7d94b6ae",
        "outputId": "2fc39ebe-39ff-400f-c60b-e0c305348199"
      },
      "outputs": [
        {
          "name": "stdout",
          "output_type": "stream",
          "text": [
            "CPU times: user 1.41 ms, sys: 1.32 ms, total: 2.73 ms\n",
            "Wall time: 2.01 ms\n"
          ]
        }
      ],
      "source": [
        "%%time\n",
        "res_user = search_by_user('juwelz_v')"
      ]
    },
    {
      "cell_type": "raw",
      "id": "1d1c8d8e",
      "metadata": {
        "id": "1d1c8d8e"
      },
      "source": []
    },
    {
      "cell_type": "markdown",
      "id": "5de82ff9",
      "metadata": {
        "id": "5de82ff9"
      },
      "source": [
        "#### Search By String"
      ]
    },
    {
      "cell_type": "code",
      "execution_count": null,
      "id": "b12bad4a",
      "metadata": {
        "collapsed": true,
        "id": "b12bad4a",
        "outputId": "0bff4b46-8dc3-4c21-b603-2dea12ff3bbe"
      },
      "outputs": [
        {
          "name": "stdout",
          "output_type": "stream",
          "text": [
            "Enter a word you want to search:\n",
            "covid\n",
            "Searching for covid ...\n",
            "CPU times: user 157 ms, sys: 11.4 ms, total: 169 ms\n",
            "Wall time: 1.05 s\n"
          ]
        },
        {
          "data": {
            "text/plain": [
              "[{'Tweet Text': 'Someone should just tell him this is actualy Covid 16 he’ll be all over it',\n",
              "  'Author of Tweet': 858716964,\n",
              "  'When Created:': '2020-04-11T20:05:26',\n",
              "  'Retweet Count': 522},\n",
              " {'Tweet Text': 'https://t.co/mA8joe6ut1\\nDr Penyakit Dalam, Heo Yeong Gu meninggal ketularan pasien Covid 19 yg dirawatnya, Presiden… https://t.co/rjPYexbvhm',\n",
              "  'Author of Tweet': 843793805010644992,\n",
              "  'When Created:': '2020-04-11T10:41:35',\n",
              "  'Retweet Count': 1164},\n",
              " {'Tweet Text': 'खुद्दार मेरे शहर का, आज भूख से मर गया.\\n\\nराशन तो लेना था, पर फोटो से डर गया..!\\n\\n#Corona  #Covid #Staysafe #karuna… https://t.co/8SLuO76Vv9',\n",
              "  'Author of Tweet': 720101708,\n",
              "  'When Created:': '2020-04-11T18:38:01',\n",
              "  'Retweet Count': 331},\n",
              " {'Tweet Text': 'Tolong pemerintah sediakan lebih banyak lagi APD, bukan hanya utk RS khusus COVID.\\n\\nTetangga jarak 6 rumah dari say… https://t.co/RyhD8dVjqM',\n",
              "  'Author of Tweet': 230696471,\n",
              "  'When Created:': '2020-04-12T01:09:19',\n",
              "  'Retweet Count': 452},\n",
              " {'Tweet Text': 'When you can’t catch Corona cause you’re COVID in the name of the Jesus 🙏🏽🕊⛅️ https://t.co/LV39WtKJT8',\n",
              "  'Author of Tweet': 2307521528,\n",
              "  'When Created:': '2020-04-10T23:41:12',\n",
              "  'Retweet Count': 150},\n",
              " {'Tweet Text': 'Today handed over 900 Ration Kits to @AmdavadAMC prepared by team @ElixirIndiaOrg with support of COVID Army in coo… https://t.co/PGjmk88i2n',\n",
              "  'Author of Tweet': 189847249,\n",
              "  'When Created:': '2020-04-12T14:26:04',\n",
              "  'Retweet Count': 28},\n",
              " {'Tweet Text': 'Qd ont eu lieu les contaminations Covid ? Les week-ends correspondent à des pics. Impact modéré des élections 1er t… https://t.co/74yF9kGei4',\n",
              "  'Author of Tweet': 195889647,\n",
              "  'When Created:': '2020-04-12T08:40:16',\n",
              "  'Retweet Count': 51},\n",
              " {'Tweet Text': 'acho que informação é tudo né, então vamo lá! \\n\\n1. uma pessoa pode contrair o COVID- 19 (corona, coronga, coronha,… https://t.co/4QyXEh1MSF',\n",
              "  'Author of Tweet': 893217126126891009,\n",
              "  'When Created:': '2020-04-12T16:29:40',\n",
              "  'Retweet Count': 18},\n",
              " {'Tweet Text': 'OYE OYE! Une personne dans ma famille est positif au covid. Ceux qui ont des symptômes du corona (&amp; même ceux qui n… https://t.co/tPD38rcU8I',\n",
              "  'Author of Tweet': 598306675,\n",
              "  'When Created:': '2020-04-12T12:05:14',\n",
              "  'Retweet Count': 22},\n",
              " {'Tweet Text': 'Thank you Neil. \\nPets are family. They cannot transmit Covid. \\n#KindnessInCrisis',\n",
              "  'Author of Tweet': 4671542414,\n",
              "  'When Created:': '2020-04-11T17:24:32',\n",
              "  'Retweet Count': 4},\n",
              " {'Tweet Text': 'Ya le pusimos nombre a los perritos nacidos la semana pasada:\\nCorona\\nVirus\\nCovid\\nGatell\\nAmlo y\\nEstampita https://t.co/PocQqO99Dy',\n",
              "  'Author of Tweet': 44633428,\n",
              "  'When Created:': '2020-04-12T15:58:14',\n",
              "  'Retweet Count': 2},\n",
              " {'Tweet Text': '@IncubationMS \\nWe have got a new app that uses #artificialIntelligence #technology to determine whether a person ha… https://t.co/qgCCRIVVsU',\n",
              "  'Author of Tweet': 2879163614,\n",
              "  'When Created:': '2020-04-12T18:02:54',\n",
              "  'Retweet Count': 2},\n",
              " {'Tweet Text': '2/\\n\\nPursuant to my thread earlier on Covid 19 in  East Jerusalem, this from the invaluable Suleiman Mawadeh.\\n\\nIn sp… https://t.co/9iKWsDCkCY',\n",
              "  'Author of Tweet': 103046392,\n",
              "  'When Created:': '2020-04-12T18:17:47',\n",
              "  'Retweet Count': 1},\n",
              " {'Tweet Text': '#COVID__19 #Corona #IndiaFightsCoronavirus #covid 19 #india #Police #Doctors #Mumbai #Delhi #Gujarat #TamilNadu… https://t.co/KyOhQiK1mi',\n",
              "  'Author of Tweet': 1098087926620176384,\n",
              "  'When Created:': '2020-04-12T18:18:02',\n",
              "  'Retweet Count': 2},\n",
              " {'Tweet Text': 'Check Bill Gates Instagram. Nothing but negative comments about his vaccine! Incidentally, COVID stands for Certifi… https://t.co/RA0ov9P6U9',\n",
              "  'Author of Tweet': 34716756,\n",
              "  'When Created:': '2020-04-12T18:26:04',\n",
              "  'Retweet Count': 1},\n",
              " {'Tweet Text': 'so before covid people are allowed to drink alcohol even if it makes their immune systems vulnerable to prior disea… https://t.co/lTTENeijH5',\n",
              "  'Author of Tweet': 896167946,\n",
              "  'When Created:': '2020-04-12T18:28:46',\n",
              "  'Retweet Count': 0},\n",
              " {'Tweet Text': 'they named they kids covid and corona 😂',\n",
              "  'Author of Tweet': 2741131395,\n",
              "  'When Created:': '2020-04-12T18:29:02',\n",
              "  'Retweet Count': 0},\n",
              " {'Tweet Text': 'This covid 19 reminds of Robben Island prisoners saying “asimbonanga umandela” 😩we haven’t seen anyone with Corona… https://t.co/7o68EbETsX',\n",
              "  'Author of Tweet': 928863028384272384,\n",
              "  'When Created:': '2020-04-12T18:30:47',\n",
              "  'Retweet Count': 0},\n",
              " {'Tweet Text': 'The @GatesFoundation plans to build manufacturing facilities for seven of the most promising COVID vaccines to acce… https://t.co/F5q8gbZg9M',\n",
              "  'Author of Tweet': 594616066,\n",
              "  'When Created:': '2020-04-12T18:32:32',\n",
              "  'Retweet Count': 0},\n",
              " {'Tweet Text': 'So sieht demnächst der Gewinner aus von \"Wer wird Millionär?\" 😉\\n#Corona #covid #klopapier #Toilettenpapier https://t.co/EYe7lQtypD',\n",
              "  'Author of Tweet': 19241609,\n",
              "  'When Created:': '2020-04-12T18:32:46',\n",
              "  'Retweet Count': 0},\n",
              " {'Tweet Text': '@notafanofdonald @owillis We do call it something; COVID 19 an Corona Virus.',\n",
              "  'Author of Tweet': 161016133,\n",
              "  'When Created:': '2020-04-12T18:35:09',\n",
              "  'Retweet Count': 0},\n",
              " {'Tweet Text': 'Day 27... Spending Easter in Quarantine. \\n\\n#bandit #malshi #shihtzu #maltese #dogsofinstagram #covid #covid19… https://t.co/bv7V0IDS76',\n",
              "  'Author of Tweet': 291812445,\n",
              "  'When Created:': '2020-04-12T18:35:21',\n",
              "  'Retweet Count': 0},\n",
              " {'Tweet Text': 'Putain de cathos restez chez vous le covid 19 est plus efficace que votre dieu!!!',\n",
              "  'Author of Tweet': 1065581669086896129,\n",
              "  'When Created:': '2020-04-12T18:38:54',\n",
              "  'Retweet Count': 0},\n",
              " {'Tweet Text': 'Covid servisinde yatan 70yaşındaki amca tedavi esnasında damardan verdiği ilaç yakıyor diye hemşire arkadaşıma bağı… https://t.co/VLiFL7Hjcu',\n",
              "  'Author of Tweet': 726081697138225152,\n",
              "  'When Created:': '2020-04-12T18:39:44',\n",
              "  'Retweet Count': 0},\n",
              " {'Tweet Text': 'In Abruzzo, dall’inizio dell’emergenza, sono stati registrati 2160 casi positivi al Covid 19, diagnosticati dai tes… https://t.co/QQnsATi4Xd',\n",
              "  'Author of Tweet': 947871616117198849,\n",
              "  'When Created:': '2020-04-12T18:40:57',\n",
              "  'Retweet Count': 0},\n",
              " {'Tweet Text': 'Short-Sleeve Unisex Classic Corona T-Shirt, COVID Graphic Tee for Men or Women\\n Price : 20.00\\n Ends on : \\n View on… https://t.co/JDTB3Enjau',\n",
              "  'Author of Tweet': 770422288915234816,\n",
              "  'When Created:': '2020-04-12T18:41:16',\n",
              "  'Retweet Count': 0},\n",
              " {'Tweet Text': 'SONDAKİKA: BAKAN SOYLU İSTİFA ETTİ https://t.co/uzFEcFO7bl  #evdekalıyorum #COVID #EvdeKalBurdur #EvdeKal… https://t.co/5izshQD5qz',\n",
              "  'Author of Tweet': 1232288945679015936,\n",
              "  'When Created:': '2020-04-12T18:41:17',\n",
              "  'Retweet Count': 0},\n",
              " {'Tweet Text': 'The day Norbert Elekes stops giving covid news that day corona will completely subside. Kitna depressing aadmi hai.… https://t.co/YD8p9spLFB',\n",
              "  'Author of Tweet': 1003913756223496192,\n",
              "  'When Created:': '2020-04-12T18:41:21',\n",
              "  'Retweet Count': 0},\n",
              " {'Tweet Text': '@COVID_19Watch You mean 0 deaths from COVID 19. Again no credible test for the virus and no Corona Virus has been isolated 🤔',\n",
              "  'Author of Tweet': 3239398820,\n",
              "  'When Created:': '2020-04-12T18:42:51',\n",
              "  'Retweet Count': 0},\n",
              " {'Tweet Text': 'Nanopatologo Stefano Montanari - La farsa del virus corona, COVID 19, coronavirus https://t.co/hHfk6G7DAK 29',\n",
              "  'Author of Tweet': 1454502163,\n",
              "  'When Created:': '2020-04-12T18:43:09',\n",
              "  'Retweet Count': 0},\n",
              " {'Tweet Text': 'Nanopatologo Stefano Montanari - La farsa del virus corona, COVID 19, coronavirus https://t.co/eV0J0oU1q8 29',\n",
              "  'Author of Tweet': 275754256,\n",
              "  'When Created:': '2020-04-12T18:43:10',\n",
              "  'Retweet Count': 0},\n",
              " {'Tweet Text': 'Feeling inadequate knowing I’ll probably never create a funny COVID meme #COVID19 #Covid_19 #COVID2019 #COVID19ON… https://t.co/fSRDiZYBn9',\n",
              "  'Author of Tweet': 1238188103376011264,\n",
              "  'When Created:': '2020-04-12T18:43:57',\n",
              "  'Retweet Count': 0},\n",
              " {'Tweet Text': 'So Dr Sanjay Gupta, the CNN medical analyst anchoring this covid virus coverage was in the 2012 movie contagion as… https://t.co/HFCPByBE71',\n",
              "  'Author of Tweet': 112187075,\n",
              "  'When Created:': '2020-04-12T18:46:47',\n",
              "  'Retweet Count': 0},\n",
              " {'Tweet Text': 'From Our Family to Yours!\\nHe Is Risen!\\n#easter #heisrisen #resurrectionday #covid #corona #quarantine @ Montana https://t.co/ux2FuAmjLM',\n",
              "  'Author of Tweet': 42684496,\n",
              "  'When Created:': '2020-04-12T18:46:51',\n",
              "  'Retweet Count': 0}]"
            ]
          },
          "execution_count": 56,
          "metadata": {},
          "output_type": "execute_result"
        }
      ],
      "source": [
        "%%time\n",
        "search_by_text()"
      ]
    },
    {
      "cell_type": "markdown",
      "id": "85647dcc",
      "metadata": {
        "id": "85647dcc"
      },
      "source": [
        "#### Search By HashTag"
      ]
    },
    {
      "cell_type": "code",
      "execution_count": null,
      "id": "0766a1ee",
      "metadata": {
        "collapsed": true,
        "id": "0766a1ee",
        "outputId": "eaa4d437-bb9e-4752-d96b-81be5097a039"
      },
      "outputs": [
        {
          "name": "stdout",
          "output_type": "stream",
          "text": [
            "Enter a word you want to search:\n",
            "covid\n",
            "Searching for covid ...\n",
            "CPU times: user 138 ms, sys: 12 ms, total: 150 ms\n",
            "Wall time: 1.12 s\n"
          ]
        },
        {
          "data": {
            "text/plain": [
              "[{'Tweet Text': 'खुद्दार मेरे शहर का, आज भूख से मर गया.\\n\\nराशन तो लेना था, पर फोटो से डर गया..!\\n\\n#Corona  #Covid #Staysafe #karuna… https://t.co/8SLuO76Vv9',\n",
              "  'Author of Tweet': 720101708,\n",
              "  'When Created:': '2020-04-11T18:38:01',\n",
              "  'Retweet Count': 331},\n",
              " {'Tweet Text': 'The @EU_Commission takes initiatives to fund more #research on #COVID-19 &amp; supports participants to carry on with… https://t.co/HAa2va8LNB',\n",
              "  'Author of Tweet': 2162942852,\n",
              "  'When Created:': '2020-04-09T16:07:44',\n",
              "  'Retweet Count': 112},\n",
              " {'Tweet Text': 'Its been18days of lockdown and the cases of corona is increasing daybyday.The fear and chaos of #COVID-19 all aroun… https://t.co/KW7UwpIuyb',\n",
              "  'Author of Tweet': 3145274737,\n",
              "  'When Created:': '2020-04-12T12:09:35',\n",
              "  'Retweet Count': 17},\n",
              " {'Tweet Text': '#COVID-19\\n#Lockdown\\n#PoliceRequestToPublic\\n\\n\"तोड़ देंगे तुम्हारे शरीर का,\\nकोना कोना, \\nलेकिन नही होने देंगें,\\nतुमको… https://t.co/iuyEYPCidL',\n",
              "  'Author of Tweet': 1224367896538730496,\n",
              "  'When Created:': '2020-04-12T18:25:14',\n",
              "  'Retweet Count': 2},\n",
              " {'Tweet Text': '#COVID__19 #Corona #IndiaFightsCoronavirus #covid 19 #india #Police #Doctors #Mumbai #Delhi #Gujarat #TamilNadu… https://t.co/KyOhQiK1mi',\n",
              "  'Author of Tweet': 1098087926620176384,\n",
              "  'When Created:': '2020-04-12T18:18:02',\n",
              "  'Retweet Count': 2},\n",
              " {'Tweet Text': 'So sieht demnächst der Gewinner aus von \"Wer wird Millionär?\" 😉\\n#Corona #covid #klopapier #Toilettenpapier https://t.co/EYe7lQtypD',\n",
              "  'Author of Tweet': 19241609,\n",
              "  'When Created:': '2020-04-12T18:32:46',\n",
              "  'Retweet Count': 0},\n",
              " {'Tweet Text': 'Para los que no saben, el significado de #COVID-19:\\n\\n“CO” = Corona\\n“VI” = Virus\\n“D” = Diciembre\\n“19” = Año 2019… https://t.co/QrtZSlmWvL',\n",
              "  'Author of Tweet': 71369655,\n",
              "  'When Created:': '2020-04-12T18:32:56',\n",
              "  'Retweet Count': 0},\n",
              " {'Tweet Text': '#COVID-19\\n#Lockdown\\n#PoliceRequestToPublic\\n\\n\"तोड़ देंगे तुम्हारे शरीर का,\\nकोना कोना, \\nलेकिन नही होने देंगें,\\nतुमको… https://t.co/2dUnm4mAJJ',\n",
              "  'Author of Tweet': 1224367896538730496,\n",
              "  'When Created:': '2020-04-12T18:33:44',\n",
              "  'Retweet Count': 0},\n",
              " {'Tweet Text': 'Day 27... Spending Easter in Quarantine. \\n\\n#bandit #malshi #shihtzu #maltese #dogsofinstagram #covid #covid19… https://t.co/bv7V0IDS76',\n",
              "  'Author of Tweet': 291812445,\n",
              "  'When Created:': '2020-04-12T18:35:21',\n",
              "  'Retweet Count': 0},\n",
              " {'Tweet Text': 'SONDAKİKA: BAKAN SOYLU İSTİFA ETTİ https://t.co/uzFEcFO7bl  #evdekalıyorum #COVID #EvdeKalBurdur #EvdeKal… https://t.co/5izshQD5qz',\n",
              "  'Author of Tweet': 1232288945679015936,\n",
              "  'When Created:': '2020-04-12T18:41:17',\n",
              "  'Retweet Count': 0},\n",
              " {'Tweet Text': 'From Our Family to Yours!\\nHe Is Risen!\\n#easter #heisrisen #resurrectionday #covid #corona #quarantine @ Montana https://t.co/ux2FuAmjLM',\n",
              "  'Author of Tweet': 42684496,\n",
              "  'When Created:': '2020-04-12T18:46:51',\n",
              "  'Retweet Count': 0}]"
            ]
          },
          "execution_count": 57,
          "metadata": {},
          "output_type": "execute_result"
        }
      ],
      "source": [
        "%%time\n",
        "search_by_ht()"
      ]
    },
    {
      "cell_type": "markdown",
      "id": "80b1cd43",
      "metadata": {
        "id": "80b1cd43"
      },
      "source": [
        "#### Search By Time Range"
      ]
    },
    {
      "cell_type": "code",
      "execution_count": null,
      "id": "d21d55e4",
      "metadata": {
        "id": "d21d55e4"
      },
      "outputs": [],
      "source": [
        "### working on"
      ]
    },
    {
      "cell_type": "markdown",
      "id": "506c3591",
      "metadata": {
        "id": "506c3591"
      },
      "source": [
        "#### Search By Who Retweeted"
      ]
    },
    {
      "cell_type": "code",
      "execution_count": null,
      "id": "261de93f",
      "metadata": {
        "id": "261de93f",
        "outputId": "9131d662-072e-4003-ca28-e7451d74ca5b"
      },
      "outputs": [
        {
          "name": "stdout",
          "output_type": "stream",
          "text": [
            "Original Tweet  If I gave you 100 skittles and told you 3 of them could kill you.... I’m sure you would avoid the fucking skittles\n",
            "\n",
            "The Retweet info about this tweet is following\n"
          ]
        },
        {
          "data": {
            "text/plain": [
              "[{'User_id who retweeted this tweet': 183036721,\n",
              "  'retweeted_at': '2020-04-12T18:43:16'},\n",
              " {'User_id who retweeted this tweet': 2858252304,\n",
              "  'retweeted_at': '2020-04-12T18:44:19'},\n",
              " {'User_id who retweeted this tweet': 67095221,\n",
              "  'retweeted_at': '2020-04-12T18:45:47'}]"
            ]
          },
          "execution_count": 72,
          "metadata": {},
          "output_type": "execute_result"
        }
      ],
      "source": [
        "retweet_info(1238612571193827335)"
      ]
    },
    {
      "cell_type": "code",
      "execution_count": null,
      "id": "9b471386",
      "metadata": {
        "id": "9b471386"
      },
      "outputs": [],
      "source": [
        "###\n",
        "# If the user clicks on the author, \n",
        "# show other tweets by that author or retweets by that author (if available)."
      ]
    },
    {
      "cell_type": "code",
      "execution_count": null,
      "id": "e193406e",
      "metadata": {
        "id": "e193406e"
      },
      "outputs": [],
      "source": []
    },
    {
      "cell_type": "code",
      "execution_count": null,
      "id": "457eb096",
      "metadata": {
        "id": "457eb096"
      },
      "outputs": [],
      "source": []
    },
    {
      "cell_type": "code",
      "execution_count": null,
      "id": "1a40b840",
      "metadata": {
        "id": "1a40b840"
      },
      "outputs": [],
      "source": []
    },
    {
      "cell_type": "code",
      "execution_count": null,
      "id": "bf5c8b30",
      "metadata": {
        "id": "bf5c8b30"
      },
      "outputs": [],
      "source": []
    },
    {
      "cell_type": "code",
      "execution_count": null,
      "id": "79468002",
      "metadata": {
        "id": "79468002"
      },
      "outputs": [],
      "source": []
    },
    {
      "cell_type": "code",
      "execution_count": null,
      "id": "211d0318",
      "metadata": {
        "id": "211d0318"
      },
      "outputs": [],
      "source": [
        "### hashtags/users may be popular and their data may be cached."
      ]
    },
    {
      "cell_type": "code",
      "execution_count": null,
      "id": "0038d4c1",
      "metadata": {
        "id": "0038d4c1"
      },
      "outputs": [],
      "source": [
        "# When will the cache get updated? Can the data get stale? How will you purge stale data?"
      ]
    },
    {
      "cell_type": "code",
      "execution_count": null,
      "id": "614a00cf",
      "metadata": {
        "id": "614a00cf"
      },
      "outputs": [],
      "source": [
        "def get_top10_user():\n",
        "    top10_user = []\n",
        "    cur.execute(\"\"\"SELECT screen_name FROM user_db ORDER BY followers_count DESC LIMIT 10;\"\"\")\n",
        "    res = cur.fetchall()\n",
        "    for a in res:\n",
        "        top10_user.append(a[0])\n",
        "        \n",
        "    return top10_user\n",
        "\n",
        "def get_top10_tweets():\n",
        "    res = []\n",
        "    for doc in tweets.find().sort('interactions', -1)[:10]:\n",
        "        tweet_info = {} \n",
        "        tweet_info['Tweet ID'] = doc['id']\n",
        "        tweet_info['Tweet']  = doc['text']\n",
        "        tweet_info['Popular Score'] = doc['interactions']\n",
        "        res.append(tweet_info)\n",
        "    return res"
      ]
    },
    {
      "cell_type": "markdown",
      "id": "de2a9fa4",
      "metadata": {
        "id": "de2a9fa4"
      },
      "source": [
        "### Redis"
      ]
    },
    {
      "cell_type": "markdown",
      "id": "46e50393",
      "metadata": {
        "id": "46e50393"
      },
      "source": [
        "### connection"
      ]
    },
    {
      "cell_type": "code",
      "execution_count": null,
      "id": "2a91f3f5",
      "metadata": {
        "id": "2a91f3f5"
      },
      "outputs": [],
      "source": [
        "import redis\n",
        "r = redis.StrictRedis(host='localhost', port=6379, db=0,charset=\"utf-8\",\n",
        "                      decode_responses=True)"
      ]
    },
    {
      "cell_type": "markdown",
      "id": "ac0d9c99",
      "metadata": {
        "id": "ac0d9c99"
      },
      "source": [
        "#### Helper Function"
      ]
    },
    {
      "cell_type": "code",
      "execution_count": null,
      "id": "6cf84610",
      "metadata": {
        "id": "6cf84610"
      },
      "outputs": [],
      "source": [
        "def get_top10_user():\n",
        "    top10_user = {}\n",
        "    cur.execute(\"\"\"SELECT screen_name,followers_count FROM user_db ORDER BY followers_count DESC LIMIT 10;\"\"\")\n",
        "    res = cur.fetchall()\n",
        "    for a in res:\n",
        "        top10_user[a[0]] =  int(a[1])\n",
        "        \n",
        "    return top10_user\n",
        "\n",
        "def get_top10_tweets():\n",
        "    res = {}\n",
        "    for doc in tweets.find().sort('interactions', -1)[:10]:\n",
        "        res[doc['text']] = doc['interactions']\n",
        "    return res"
      ]
    },
    {
      "cell_type": "code",
      "execution_count": null,
      "id": "40033916",
      "metadata": {
        "id": "40033916"
      },
      "outputs": [],
      "source": []
    },
    {
      "cell_type": "markdown",
      "id": "4964a17d",
      "metadata": {
        "id": "4964a17d"
      },
      "source": [
        "###  1. Top Users"
      ]
    },
    {
      "cell_type": "code",
      "execution_count": null,
      "id": "fdbbad04",
      "metadata": {
        "id": "fdbbad04"
      },
      "outputs": [],
      "source": [
        "def redis_store_top10_user(top10user):\n",
        "    try:\n",
        "        # delete before \n",
        "        r.delete('top10_user')\n",
        "        tmp = top10user\n",
        "        r.zadd('top10_user', tmp)\n",
        "        print(\"Successfully Stored!\")\n",
        "    except:\n",
        "        print(\"ERROR!\")\n",
        "        \n",
        "def redis_get_top10_user():\n",
        "    return r.zrange('top10_user',0, 10,-1) \n",
        "    \n",
        "def redis_update_top10_user(top10user):\n",
        "    # input top10user will be dictionary format ('screen_name':value)\n",
        "    # top10user from the current user db\n",
        "    # regis_get_top10_user form redis db\n",
        "    if redis_get_top10_user() == list(top10user.keys()):\n",
        "        # update the new value to the lateset user db\n",
        "        r.delete('top10_user')\n",
        "        redis_store_top10_user(top10user)\n",
        "        print(\"Successfuly updated\")\n",
        "        "
      ]
    },
    {
      "cell_type": "markdown",
      "id": "48285e59",
      "metadata": {
        "id": "48285e59"
      },
      "source": [
        "#### TEST FOR TOP USERS"
      ]
    },
    {
      "cell_type": "code",
      "execution_count": null,
      "id": "a129b31e",
      "metadata": {
        "id": "a129b31e",
        "outputId": "f56c2d9c-3aac-4792-a7c6-82b1a7b6871c"
      },
      "outputs": [
        {
          "name": "stdout",
          "output_type": "stream",
          "text": [
            "Successfully Stored!\n"
          ]
        }
      ],
      "source": [
        "# store top 10 user to Redis\n",
        "usertop10 = get_top10_user()\n",
        "redis_store_top10_user(usertop10)"
      ]
    },
    {
      "cell_type": "code",
      "execution_count": null,
      "id": "fb35a832",
      "metadata": {
        "id": "fb35a832",
        "outputId": "f9e1ef77-0287-4c64-d1bf-cd2ad8a4a432"
      },
      "outputs": [
        {
          "data": {
            "text/plain": [
              "['detikcom',\n",
              " 'la_patilla',\n",
              " 'skynewsarabia',\n",
              " 'virsanghvi',\n",
              " 'NTelevisa_com',\n",
              " 'repubblica',\n",
              " 'casspernyovest',\n",
              " 'OKAZ_online',\n",
              " 'andihiyat',\n",
              " 'Foro_TV']"
            ]
          },
          "execution_count": 143,
          "metadata": {},
          "output_type": "execute_result"
        }
      ],
      "source": [
        "# get the data from redis\n",
        "res = redis_get_top10_user()\n",
        "res "
      ]
    },
    {
      "cell_type": "markdown",
      "id": "04c4f7f1",
      "metadata": {
        "id": "04c4f7f1"
      },
      "source": [
        "### 2. Top Tweets"
      ]
    },
    {
      "cell_type": "code",
      "execution_count": null,
      "id": "2698013d",
      "metadata": {
        "id": "2698013d"
      },
      "outputs": [],
      "source": [
        "def redis_store_top10_tweets(top10tweet):\n",
        "    # input top10tweets will be dictionary format ('screen_name':value)\n",
        "    try:\n",
        "        # delete before \n",
        "        r.delete('top10_tweets')\n",
        "        r.zadd('top10_tweets', top10tweet)\n",
        "        print(\"Successfully Stored!\")\n",
        "        return \n",
        "    except:\n",
        "        print(\"ERROR!\")\n",
        "    \n",
        "def redis_get_top10_tweets():\n",
        "    return r.zrange('top10_tweets',0, 10,-1) \n",
        "    \n",
        "\n",
        "def redis_update_top10_tweets(top10tweets):\n",
        "    # input top10tweets will be dictionary format ('screen_name':value)\n",
        "    # top10user from the current user db\n",
        "    # regis_get_top10_user form redis db\n",
        "    if redis_get_top10_tweets() == list(top10tweets.keys()):\n",
        "        # update the new value to the lateset user db\n",
        "        r.delete('top10_tweets')\n",
        "        redis_store_top10_tweets(top10tweets)\n",
        "        print(\"Successfuly updated\")"
      ]
    },
    {
      "cell_type": "code",
      "execution_count": null,
      "id": "97f859ad",
      "metadata": {
        "id": "97f859ad",
        "outputId": "3107749a-5908-404f-93f8-ab7c50700953"
      },
      "outputs": [
        {
          "name": "stdout",
          "output_type": "stream",
          "text": [
            "Successfully Stored!\n"
          ]
        }
      ],
      "source": [
        "# store top 10 user to Redis\n",
        "tweet10 = get_top10_tweets()\n",
        "redis_store_top10_tweets(tweet10)"
      ]
    },
    {
      "cell_type": "code",
      "execution_count": null,
      "id": "5d5673dd",
      "metadata": {
        "id": "5d5673dd",
        "outputId": "60e5c8c2-dd36-41c7-ff11-6dfddc6e8bf7"
      },
      "outputs": [
        {
          "data": {
            "text/plain": [
              "['ALERT‼️‼️‼️\\nThe corona virus can be spread through money. If you have any money at home, put on some gloves, put al… https://t.co/juJjDpFN3I',\n",
              " 'If I gave you 100 skittles and told you 3 of them could kill you.... I’m sure you would avoid the fucking skittles',\n",
              " 'THIS MAN IS A GENIUS he figured out the Corona virus problem 😮 https://t.co/EZP7IqTtxV',\n",
              " 'It wasn’t no corona till y’all started balancing brooms in the house, y’all let the devil in',\n",
              " 'Watch this. It shows why we should all do the right thing and stay home to the fullest extent possible. All of us c… https://t.co/GOODRTNI2e',\n",
              " 'we all know who the only person who can defeat corona is https://t.co/u7DraiQHHY',\n",
              " 'This what Corona do when you outta school for 2 weeks &amp; home w ya mama 😂😂😂🤦🏾\\u200d♀️ https://t.co/bz4u2p2JZM',\n",
              " 'CDC just announced that corona can be spread via Instagram story challenges :-/',\n",
              " 'Ms.Corona made me do it 🤍🗻 https://t.co/PMfVcXwdoi',\n",
              " 'Corona virus....its coming']"
            ]
          },
          "execution_count": 166,
          "metadata": {},
          "output_type": "execute_result"
        }
      ],
      "source": [
        "# get the data from redis\n",
        "res = redis_get_top10_tweets()\n",
        "res "
      ]
    },
    {
      "cell_type": "markdown",
      "id": "fb7a4557",
      "metadata": {
        "id": "fb7a4557"
      },
      "source": [
        "## Copmaring the time with Redis and without Redis"
      ]
    },
    {
      "cell_type": "markdown",
      "id": "2cd646b5",
      "metadata": {
        "id": "2cd646b5"
      },
      "source": [
        "#### TOP USERS"
      ]
    },
    {
      "cell_type": "markdown",
      "id": "80312d71",
      "metadata": {
        "id": "80312d71"
      },
      "source": [
        "### 10 Times Faster!!!"
      ]
    },
    {
      "cell_type": "code",
      "execution_count": null,
      "id": "abc27282",
      "metadata": {
        "id": "abc27282",
        "outputId": "359c4a4c-6236-40ba-c1f6-5730a185efc2"
      },
      "outputs": [
        {
          "name": "stdout",
          "output_type": "stream",
          "text": [
            "CPU times: user 1.89 ms, sys: 2.53 ms, total: 4.41 ms\n",
            "Wall time: 41.4 ms\n"
          ]
        }
      ],
      "source": [
        "# without Redis for top10 users\n",
        "%%time\n",
        "for _ in range(10):\n",
        "    get_top10_user()"
      ]
    },
    {
      "cell_type": "code",
      "execution_count": null,
      "id": "84f82e17",
      "metadata": {
        "id": "84f82e17",
        "outputId": "711d3e10-df9b-45e1-bb0b-61a0f6dba968"
      },
      "outputs": [
        {
          "name": "stdout",
          "output_type": "stream",
          "text": [
            "CPU times: user 3.68 ms, sys: 1.99 ms, total: 5.67 ms\n",
            "Wall time: 4.76 ms\n"
          ]
        }
      ],
      "source": [
        "%%time\n",
        "# With Redis for top10 users\n",
        "for _ in range(10):\n",
        "    redis_get_top10_user()"
      ]
    },
    {
      "cell_type": "markdown",
      "id": "481ad9d1",
      "metadata": {
        "id": "481ad9d1"
      },
      "source": [
        "#### TOP TWEETS"
      ]
    },
    {
      "cell_type": "markdown",
      "id": "5ec074b6",
      "metadata": {
        "id": "5ec074b6"
      },
      "source": [
        "### 16 Times Faster!!!"
      ]
    },
    {
      "cell_type": "code",
      "execution_count": null,
      "id": "05acbf33",
      "metadata": {
        "id": "05acbf33",
        "outputId": "e45e7a0e-3fde-4d49-8177-3e31aa6ca684"
      },
      "outputs": [
        {
          "name": "stdout",
          "output_type": "stream",
          "text": [
            "CPU times: user 11.3 ms, sys: 2.03 ms, total: 13.3 ms\n",
            "Wall time: 83.4 ms\n"
          ]
        }
      ],
      "source": [
        "%%time\n",
        "#without Redis for top10 tweets\n",
        "for _ in range(10):\n",
        "    get_top10_tweets()"
      ]
    },
    {
      "cell_type": "code",
      "execution_count": null,
      "id": "e5a2b30e",
      "metadata": {
        "id": "e5a2b30e",
        "outputId": "f3d4fc57-942c-40a7-990c-f81d0a881490"
      },
      "outputs": [
        {
          "name": "stdout",
          "output_type": "stream",
          "text": [
            "CPU times: user 4.86 ms, sys: 3.14 ms, total: 8 ms\n",
            "Wall time: 5.99 ms\n"
          ]
        }
      ],
      "source": [
        "%%time\n",
        "# With Redis for top10 tweets\n",
        "for _ in range(10):\n",
        "    redis_get_top10_tweets()"
      ]
    }
  ],
  "metadata": {
    "kernelspec": {
      "display_name": "Python 3",
      "language": "python",
      "name": "python3"
    },
    "language_info": {
      "codemirror_mode": {
        "name": "ipython",
        "version": 3
      },
      "file_extension": ".py",
      "mimetype": "text/x-python",
      "name": "python",
      "nbconvert_exporter": "python",
      "pygments_lexer": "ipython3",
      "version": "3.8.8"
    },
    "colab": {
      "provenance": [],
      "collapsed_sections": [
        "7e111492",
        "5de82ff9",
        "85647dcc",
        "80b1cd43",
        "506c3591",
        "ac0d9c99",
        "48285e59",
        "2cd646b5",
        "481ad9d1"
      ]
    }
  },
  "nbformat": 4,
  "nbformat_minor": 5
}